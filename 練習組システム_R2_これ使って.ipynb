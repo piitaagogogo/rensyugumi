{
 "cells": [
  {
   "cell_type": "code",
   "execution_count": 1,
   "metadata": {
    "colab": {
     "base_uri": "https://localhost:8080/"
    },
    "executionInfo": {
     "elapsed": 12099,
     "status": "ok",
     "timestamp": 1605509147673,
     "user": {
      "displayName": "ゆい",
      "photoUrl": "https://lh3.googleusercontent.com/a-/AOh14GgyR7Q3DW1EB5Sh3iriyUoz4obJIoVSorkOeTRL3Q=s64",
      "userId": "00202243172907705142"
     },
     "user_tz": -540
    },
    "id": "z275a_4-AtGN",
    "outputId": "c44b20b6-3311-43e9-fa5d-65318da2ddf3"
   },
   "outputs": [
    {
     "name": "stdout",
     "output_type": "stream",
     "text": [
      "Collecting pulp\n",
      "\u001b[?25l  Downloading https://files.pythonhosted.org/packages/89/0c/6d80f5f81a92d1733cc5ca180491b8a3cd5839e335627a0046c81b7d3d3d/PuLP-2.3.1-py3-none-any.whl (40.6MB)\n",
      "\u001b[K     |████████████████████████████████| 40.6MB 98kB/s \n",
      "\u001b[?25hCollecting amply>=0.1.2\n",
      "  Downloading https://files.pythonhosted.org/packages/f3/c5/dfa09dd2595a2ab2ab4e6fa7bebef9565812722e1980d04b0edce5032066/amply-0.1.4-py3-none-any.whl\n",
      "Requirement already satisfied: pyparsing in /usr/local/lib/python3.6/dist-packages (from amply>=0.1.2->pulp) (2.4.7)\n",
      "Requirement already satisfied: docutils>=0.3 in /usr/local/lib/python3.6/dist-packages (from amply>=0.1.2->pulp) (0.16)\n",
      "Installing collected packages: amply, pulp\n",
      "Successfully installed amply-0.1.4 pulp-2.3.1\n"
     ]
    }
   ],
   "source": [
    "!pip install pulp\n",
    "!pip install --upgrade -q gspread\n",
    " # -*- coding: utf-8 -*-\n",
    "\"\"\"\n",
    "Created on Fri Jul 12 12:01:39 2019\n",
    "@author: ryo watanabe 11th \n",
    "※入力ファイルは CSV UTF-8(コンマ区切り)(*.csv) で保存すること\n",
    "\"\"\"\n",
    "# In[0]:準備\n",
    "import pulp\n",
    "import numpy as np\n",
    "import pandas as pd\n",
    "import time\n",
    "class pycolor:\n",
    "    BLUE = '\\033[34m'\n",
    "    HIGHLIGHT = '\\033[01m'\n",
    "    END = '\\033[0m'\n",
    "start = time.time()"
   ]
  },
  {
   "cell_type": "markdown",
   "metadata": {
    "id": "LXQO_9NlgF-J"
   },
   "source": [
    "# **スプレッドシート入力**"
   ]
  },
  {
   "cell_type": "code",
   "execution_count": null,
   "metadata": {
    "id": "JsK8BjvwSH5g"
   },
   "outputs": [],
   "source": [
    "from google.colab import auth\n",
    "auth.authenticate_user()\n",
    "import gspread\n",
    "from oauth2client.client import GoogleCredentials\n",
    "gc = gspread.authorize(GoogleCredentials.get_application_default())\n",
    "#Attendスプレッドシートのキーをコピペ\n",
    "worksheet_A = gc.open_by_key('1ADkGYGAdwSje21YB1Y32FfUz1PzVIqSWwZC78-E_Efs').worksheet('シート1') \n",
    "A_pd = pd.DataFrame.from_records(worksheet_A.get_all_values())\n",
    "A_pd.columns = list(A_pd.iloc[0,:])\n",
    "A_pd = A_pd.drop(A_pd.index[0]).reset_index(drop=True)\n",
    "A_np = A_pd.iloc[2:,2:].replace(\"\",\"0\").values.astype(int)\n",
    "\n",
    "#needスプレッドシートのキーをコピペ\n",
    "worksheet_n = gc.open_by_key('1dscLNQZpXj1b-9tItO3v9C7KtZR1aKkIehkCTwNyuos').worksheet('シート1') \n",
    "N_pd = pd.DataFrame.from_records(worksheet_n.get_all_values())\n",
    "N_pd.columns = list(N_pd.iloc[0,:])\n",
    "N_pd = N_pd.drop(N_pd.index[0]).reset_index(drop=True)\n",
    "N_np = N_pd.iloc[2:,3:].replace(\"\",\"0\").values.astype(int)\n",
    "N_np1 = N_pd.iloc[2:,:].replace(\"\",\"0\").values"
   ]
  },
  {
   "cell_type": "markdown",
   "metadata": {
    "id": "tOqTIq4DRIT3"
   },
   "source": [
    "# **メニュー組参考分析**"
   ]
  },
  {
   "cell_type": "code",
   "execution_count": null,
   "metadata": {
    "id": "Jd-d8uyFeftI"
   },
   "outputs": [],
   "source": [
    "N_pd_d = N_pd.drop(N_pd.columns[0], axis=1)\n",
    "a = pd.DataFrame()\n",
    "a[\"Unnamed: 0\"] = N_pd.iloc[:,0]\n",
    "a[\"Unnamed: 1\"] = N_pd.iloc[:,1]\n",
    "N_pd_d = pd.concat([a, N_pd_d], axis=1).replace(\"\",\"0\")"
   ]
  },
  {
   "cell_type": "code",
   "execution_count": null,
   "metadata": {
    "id": "XMOyYt3rRGuF"
   },
   "outputs": [],
   "source": [
    "import pandas as pd\n",
    "import numpy as np\n",
    "import matplotlib.pyplot as plt\n",
    "import matplotlib.cm as cm\n",
    "\n",
    "\n",
    "#attendfile\n",
    "attend = A_pd\n",
    "column_name1 = []\n",
    "attend_dash = attend.drop(attend.columns[0],axis = 1)\n",
    "attend_dash = attend_dash.drop(1)\n",
    "#needfile\n",
    "need = N_pd_d\n",
    "column_name = []\n",
    "need_dash = need.drop(1)\n",
    "need_dash = need_dash.drop([\"Unnamed: 0\",\"名前番号\"],axis = 1)\n",
    "\n",
    "menu_rate = need_dash.copy()#今後使う\n",
    "menber = need.iloc[0,3:]#メンバーリスト\n",
    "span = attend.iloc[2:,:2]#timeリスト"
   ]
  },
  {
   "cell_type": "markdown",
   "metadata": {
    "id": "3xPt-cACRfa5"
   },
   "source": [
    " **時間帯別出席者数**"
   ]
  },
  {
   "cell_type": "code",
   "execution_count": null,
   "metadata": {
    "id": "a0XUyimQRYta"
   },
   "outputs": [],
   "source": [
    "attend_num = attend_dash.iloc[1:,1:].astype(int).sum(axis=1).values\n",
    "label=attend_dash.iloc[1:,0].values\n",
    "bar_num = []\n",
    "for i in range(len(label)):\n",
    "  bar_num.append(i+1)\n",
    "plt.figure(figsize=(10,8),dpi=50,facecolor=\"w\")\n",
    "plt.bar(bar_num, attend_num,color=\"#0078D7\", width=0.4, tick_label=label, align=\"center\")\n",
    "plt.title(\"attend_num\")\n",
    "plt.show()"
   ]
  },
  {
   "cell_type": "markdown",
   "metadata": {
    "id": "xITbprmARl-s"
   },
   "source": [
    "**各時間の出席率と平均値(メニュー募集時の参考データ)**"
   ]
  },
  {
   "cell_type": "code",
   "execution_count": null,
   "metadata": {
    "id": "o-fDkP0ARcMN"
   },
   "outputs": [],
   "source": [
    "\"\"\"\n",
    "#menurate 加工\n",
    "for time in range(len(attend_dash)-1):\n",
    "  menu_rate.iloc[0,time+1] = attend_dash.iloc[time+1,0]\n",
    "  for menu in range(len(need_dash)-1):\n",
    "    menber_attend = 0\n",
    "    menber_need = 0\n",
    "    for menber in range(len(attend_dash.iloc[1,:])-1):\n",
    "      menber_attend+=int(need_dash.iloc[menu+1,menber+1])*int(attend_dash.iloc[time+1,menber+1])\n",
    "      menber_need += int(need_dash.iloc[menu+1,menber+1])\n",
    "    menu_rate.iloc[menu+1,time+1] = (menber_attend/menber_need)*100\n",
    "\n",
    "#本題\n",
    "menu_rate = menu_rate.iloc[:,:len(attend_dash)]\n",
    "columns = []\n",
    "for i in range(len(menu_rate.iloc[0,:])):\n",
    "    if i==0:\n",
    "        columns.append(\"メニュー名\")\n",
    "    else:\n",
    "        columns.append(menu_rate.iloc[0,i])\n",
    "menu_rate.columns = columns\n",
    "menu_rate=menu_rate.drop(0)\n",
    "menu_rate[\"平均出席率\"] = menu_rate.iloc[:,1:].mean(axis='columns')\n",
    "menu_rate_alltime = menu_rate.sort_values(by='平均出席率', ascending=False)\n",
    "menu_rate_alltime.round(1).reset_index(drop=True)\n",
    "\"\"\""
   ]
  },
  {
   "cell_type": "markdown",
   "metadata": {
    "id": "MFlGnxNRRnaS"
   },
   "source": [
    "# **練習組最適化システム**"
   ]
  },
  {
   "cell_type": "markdown",
   "metadata": {
    "id": "_sM0rhTwCvNK"
   },
   "source": [
    "\n",
    "**パラメータ入力**"
   ]
  },
  {
   "cell_type": "code",
   "execution_count": null,
   "metadata": {
    "id": "KSN3Nqz00mgH"
   },
   "outputs": [],
   "source": [
    "K = 3 #被り人数許容上限\n",
    "W = 5 #同時練習許容上限"
   ]
  },
  {
   "cell_type": "markdown",
   "metadata": {
    "id": "LZTmasZkDIxR"
   },
   "source": [
    "\n",
    "**準備**"
   ]
  },
  {
   "cell_type": "code",
   "execution_count": null,
   "metadata": {
    "id": "A24MybuwZSrL"
   },
   "outputs": [],
   "source": [
    "namedic = {}#メンバー名辞書\n",
    "for i in range(len(N_pd.iloc[0])-3):\n",
    "    namedic[i+1] = N_pd.iloc[0][i+3]\n",
    "traindic = {}#練習名辞書\n",
    "for i in range(len(N_pd)-2):\n",
    "    traindic[i+1] = N_pd.iloc[i+2][1]#\n",
    "#j = やる練習 指定\n",
    "training = []\n",
    "for i in range(len(N_np1)):\n",
    "    if N_np1[i][2] == \"1\":\n",
    "        training.append(i+1)\n",
    "#練習に必要なメンバー行列（N_np)\n",
    "col = []\n",
    "for i in range(len(N_np1[0])-3):\n",
    "    col.append(i+3)\n",
    "for i in range(len(N_np)):\n",
    "    for j in range(len(N_np[0])):\n",
    "        if N_np[i,j] == -1:\n",
    "            N_np[i,j] = 0    \n",
    "#i = member 指定\n",
    "people = []\n",
    "for i in range(len(N_np[0])):\n",
    "    people.append(i+1)\n",
    "#ｔ = コマ 指定\n",
    "times = []\n",
    "for i in range(len(A_np)):\n",
    "    times.append(i+1)\n",
    "#時間帯\n",
    "timezone = A_pd.iloc[2:,1].values"
   ]
  },
  {
   "cell_type": "markdown",
   "metadata": {
    "id": "ccWwDUscDR9Y"
   },
   "source": [
    "**最適化計算**"
   ]
  },
  {
   "cell_type": "code",
   "execution_count": null,
   "metadata": {
    "id": "yDpUKJnUB-bM"
   },
   "outputs": [],
   "source": [
    "#関数\n",
    "m = pulp.LpProblem(\"bestpractice\", pulp.LpMaximize)\n",
    "x = pulp.LpVariable.dicts('X', (people, training, times), 0, 1, pulp.LpInteger)#tコマにiさんがj練習をするかどうか\n",
    "y = pulp.LpVariable.dicts('Y', (training, times), 0, 1, pulp.LpInteger)#tコマにj練習をするかどうか\n",
    "m += pulp.lpSum(x[i][j][t] for i in people for j in training for t in times ), \"TotalPoint\"\n",
    "#制約\n",
    "for t in times:#練習はまとめて4つまで　t期にする練習全部足したらw以下に\n",
    "    m += pulp.lpSum(y[j][t] for j in training) <= W              \n",
    "for j in training:#同じ練習は1回まで　jの練習に対して全期分足したら1以下に    \n",
    "    m += pulp.lpSum(y[j][t] for t in times) <= 1            \n",
    "for i in people:#やる練習にしか参加できない　参加しないのはあり    \n",
    "    for j in training:\n",
    "        for t in times:\n",
    "            m += x[i][j][t] <= y[j][t]\n",
    "for i in people:#必要な練習しかしない　必要な練習でもやらないのはあり\n",
    "    for j in training:\n",
    "        for t in times:\n",
    "            m += x[i][j][t] <= N_np[j-1][i-1]\n",
    "for i in people:#いる人しか参加しない　いる人で参加しないのはあり\n",
    "    for j in training:\n",
    "        for t in times:\n",
    "            m += x[i][j][t] <= A_np[t-1][i-1]\n",
    "for i in people:#tコマで1人ができる練習は1つまで\n",
    "    for t in times:\n",
    "        m += pulp.lpSum(x[i][j][t] for j in training) <= 1\n",
    "for t in times:#各期の参加人数はいる人でやる練習に参加可の人の合計よりK人少ない人数以上必要\n",
    "    m += pulp.lpSum(x[i][j][t] for i in people for j in training) >= pulp.lpSum(N_np[j-1][i-1]*A_np[t-1][i-1]*y[j][t] for i in people for j in training) - K\n",
    "m += pulp.lpSum(y[j][t] for j in training for t in times) == len(training)#入れた練習は全て採用する\n",
    "\n",
    "m.solve()\n",
    "\n",
    "print(pulp.LpStatus[m.solve()])\n",
    "print(\"練習数は\"+str(len(training)))"
   ]
  },
  {
   "cell_type": "markdown",
   "metadata": {
    "id": "SeUxM2dxDV3-"
   },
   "source": [
    "**結果**"
   ]
  },
  {
   "cell_type": "code",
   "execution_count": null,
   "metadata": {
    "id": "jOAmnGT3CY5o"
   },
   "outputs": [],
   "source": [
    "print(\"=========================================\")\n",
    "if pulp.LpStatus[m.solve()] != \"Infeasible\":\n",
    "    print (pycolor.HIGHLIGHT +\"練習は入りきった！\"+ pycolor.END)\n",
    "    print(\"総練習人数は\"+str(round(pulp.value(m.objective)))+\"人\") \n",
    "#結果\n",
    "    print(\"=========================================\")\n",
    "    print(pycolor.HIGHLIGHT +\"【メニュースケジュール】\"+ pycolor.END)\n",
    "    t1 = 0\n",
    "    j1 = 0\n",
    "    for t in times:\n",
    "        tt = 0\n",
    "        for j in training:\n",
    "            if pulp.value(y[j][t]) == 1:\n",
    "                if t1 != t:\n",
    "                    t1 = t\n",
    "                if j1 != j:\n",
    "                    j1 = j\n",
    "                    tt += 1\n",
    "                    if tt == 1:\n",
    "                        print(pycolor.BLUE +timezone[t-1] + pycolor.END)\n",
    "                    print(traindic[j]) \n",
    "    print(\"=========================================\")\n",
    "    print(pycolor.HIGHLIGHT +\"【被り】\"+ pycolor.END)\n",
    "    for t in times:\n",
    "        tt = 0\n",
    "        for j in training:\n",
    "            for i in people:\n",
    "                if pulp.value(x[i][j][t]) != pulp.value(N_np[j-1][i-1]*A_np[t-1][i-1]*y[j][t]):\n",
    "                    tt += 1\n",
    "                    if tt == 1:\n",
    "                        print(pycolor.BLUE +timezone[t-1] + pycolor.END)\n",
    "                    print(namedic[i])\n",
    "    print(\"=========================================\")\n",
    "    print(pycolor.HIGHLIGHT +\"【やることない】\"+ pycolor.END)\n",
    "    for t in times:\n",
    "        tt = 0\n",
    "        for i in people:\n",
    "            if A_np[t-1][i-1] == 1:\n",
    "                #print(pulp.value(pulp.lpSum(x[i][j][t] for j in training)))\n",
    "                if pulp.value(pulp.lpSum(x[i][j][t] for j in training)) == 0:\n",
    "                    tt += 1\n",
    "                    if tt == 1:\n",
    "                        print(pycolor.BLUE +timezone[t-1] + pycolor.END)\n",
    "                    print(namedic[i])\n",
    "    \n",
    "else:\n",
    "    print(pycolor.HIGHLIGHT +\"練習は入り切らなかった．被り人数許容上限=\"+str(K)+\",同時練習許容上限=\"+str(W)+ pycolor.END)\n",
    "    print(\"K(被り人数許容上限)やW(同時練習許容上限)を大きくするか，練習するメニュー減らしてみてね\")"
   ]
  }
 ],
 "metadata": {
  "colab": {
   "collapsed_sections": [],
   "name": "練習組システム_R2_これ使って.ipynb",
   "provenance": []
  },
  "kernelspec": {
   "display_name": "Python 3",
   "language": "python",
   "name": "python3"
  },
  "language_info": {
   "codemirror_mode": {
    "name": "ipython",
    "version": 3
   },
   "file_extension": ".py",
   "mimetype": "text/x-python",
   "name": "python",
   "nbconvert_exporter": "python",
   "pygments_lexer": "ipython3",
   "version": "3.8.5"
  }
 },
 "nbformat": 4,
 "nbformat_minor": 4
}
